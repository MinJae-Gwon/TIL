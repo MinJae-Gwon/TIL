{
 "cells": [
  {
   "cell_type": "code",
   "execution_count": 1,
   "metadata": {},
   "outputs": [],
   "source": [
    "06 Workshop_Answer"
   ]
  },
  {
   "cell_type": "code",
   "execution_count": null,
   "metadata": {},
   "outputs": [],
   "source": [
    "def right(n):\n",
    "    i=1\n",
    "    while True:\n",
    "        if i**2 >n:\n",
    "            return i\n",
    "        else:\n",
    "            i+=1\n",
    "\n",
    "def left(n):\n",
    "    i=1\n",
    "    while True:\n",
    "        if i**2<=n:\n",
    "            i+=1\n",
    "            if i**2>=n:\n",
    "                return i-1\n",
    "                     \n",
    "        else:\n",
    "            return i-1\n",
    "            break\n",
    "\n",
    "def sqrt(n,l,r):\n",
    "    while round(l,3)!=round(r,3):\n",
    "        if ((l+r)/2)**2 > n:\n",
    "            r = (l+r)/2\n",
    "        elif ((l+r)/2)**2 < n:\n",
    "            l = (l+r)/2\n",
    "    return round(l,3)\n",
    "\n",
    "n=int(input('수를 입력하세요: '))\n",
    "l=left(n)\n",
    "r=right(n)\n",
    "print(sqrt(n,l,r))"
   ]
  }
 ],
 "metadata": {
  "kernelspec": {
   "display_name": "Python 3",
   "language": "python",
   "name": "python3"
  },
  "language_info": {
   "codemirror_mode": {
    "name": "ipython",
    "version": 3
   },
   "file_extension": ".py",
   "mimetype": "text/x-python",
   "name": "python",
   "nbconvert_exporter": "python",
   "pygments_lexer": "ipython3",
   "version": "3.7.1"
  }
 },
 "nbformat": 4,
 "nbformat_minor": 2
}
